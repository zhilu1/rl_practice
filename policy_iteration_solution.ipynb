{
 "cells": [
  {
   "cell_type": "code",
   "execution_count": 7,
   "metadata": {},
   "outputs": [
    {
     "name": "stdout",
     "output_type": "stream",
     "text": [
      "The autoreload extension is already loaded. To reload it, use:\n",
      "  %reload_ext autoreload\n"
     ]
    }
   ],
   "source": [
    "import numpy as np\n",
    "from rl_envs.grid_world_env import GridWorldEnv\n",
    "from agents.policy_iteration_agent import TruncatedPolicyIterationAgent\n",
    "# rl_envs.grid_world_env import GridWorldEnv\n",
    "\n",
    "%load_ext autoreload \n",
    "# %aimport rl_envs.grid_world_env\n",
    "\n",
    "%autoreload 2"
   ]
  },
  {
   "cell_type": "code",
   "execution_count": 8,
   "metadata": {},
   "outputs": [],
   "source": [
    "# Taken from Policy Evaluation Exercise!\n",
    "\n",
    "def policy_eval(policy, env, discount_factor=1.0, theta=0.00001):\n",
    "    \"\"\"\n",
    "    Evaluate a policy given an environment and a full description of the environment's dynamics.\n",
    "    \n",
    "    Args:\n",
    "        policy: [S, A] shaped matrix representing the policy.\n",
    "        env: OpenAI env. env.P represents the transition probabilities of the environment.\n",
    "            env.P[s][a] is a list of transition tuples (prob, next_state, reward, done).\n",
    "            env.nS is a number of states in the environment. \n",
    "            env.nA is a number of actions in the environment.\n",
    "        theta: We stop evaluation once our value function change is less than theta for all states.\n",
    "        discount_factor: Gamma discount factor.\n",
    "    \n",
    "    Returns:\n",
    "        Vector of length env.nS representing the value function.\n",
    "    \"\"\"\n",
    "    # Start with a random (all 0) value function\n",
    "    V = np.zeros(env.nS)\n",
    "    while True:\n",
    "        delta = 0\n",
    "        # For each state, perform a \"full backup\"\n",
    "        for s in range(env.nS):\n",
    "            v = 0\n",
    "            # Look at the possible next actions\n",
    "            for a, action_prob in enumerate(policy[s]):\n",
    "                # For each action, look at the possible next states...\n",
    "                for  prob, next_state, reward, done in env.P[s][a]:\n",
    "                    # Calculate the expected value\n",
    "                    v += action_prob * prob * (reward + discount_factor * V[next_state])\n",
    "            # How much our value function changed (across any states)\n",
    "            delta = max(delta, np.abs(v - V[s]))\n",
    "            V[s] = v\n",
    "        # Stop evaluating once our value function change is below a threshold\n",
    "        if delta < theta:\n",
    "            break\n",
    "    return np.array(V)"
   ]
  },
  {
   "cell_type": "code",
   "execution_count": 9,
   "metadata": {},
   "outputs": [],
   "source": [
    "def policy_improvement(env, policy_eval_fn=policy_eval, discount_factor=1.0):\n",
    "    \"\"\"\n",
    "    Policy Improvement Algorithm. Iteratively evaluates and improves a policy\n",
    "    until an optimal policy is found.\n",
    "    \n",
    "    Args:\n",
    "        env: The OpenAI environment.\n",
    "        policy_eval_fn: Policy Evaluation function that takes 3 arguments:\n",
    "            policy, env, discount_factor.\n",
    "        discount_factor: gamma discount factor.\n",
    "        \n",
    "    Returns:\n",
    "        A tuple (policy, V). \n",
    "        policy is the optimal policy, a matrix of shape [S, A] where each state s\n",
    "        contains a valid probability distribution over actions.\n",
    "        V is the value function for the optimal policy.\n",
    "        \n",
    "    \"\"\"\n",
    "\n",
    "    def one_step_lookahead(state, V):\n",
    "        \"\"\"\n",
    "        Helper function to calculate the value for all action in a given state.\n",
    "        \n",
    "        Args:\n",
    "            state: The state to consider (int)\n",
    "            V: The value to use as an estimator, Vector of length env.nS\n",
    "        \n",
    "        Returns:\n",
    "            A vector of length env.nA containing the expected value of each action.\n",
    "        \"\"\"\n",
    "        A = np.zeros(env.nA)\n",
    "        for a in range(env.nA):\n",
    "            for prob, next_state, reward, done in env.P[state][a]:\n",
    "                A[a] += prob * (reward + discount_factor * V[next_state])\n",
    "        return A\n",
    "    \n",
    "    # Start with a random policy\n",
    "    policy = np.ones([env.nS, env.nA]) / env.nA\n",
    "    \n",
    "    while True:\n",
    "        # Evaluate the current policy\n",
    "        V = policy_eval_fn(policy, env, discount_factor)\n",
    "        \n",
    "        # Will be set to false if we make any changes to the policy\n",
    "        policy_stable = True\n",
    "        \n",
    "        # For each state...\n",
    "        for s in range(env.nS):\n",
    "            # The best action we would take under the current policy\n",
    "            chosen_a = np.argmax(policy[s])\n",
    "            \n",
    "            # Find the best action by one-step lookahead\n",
    "            # Ties are resolved arbitarily\n",
    "            action_values = one_step_lookahead(s, V)\n",
    "            best_a = np.argmax(action_values)\n",
    "            \n",
    "            # Greedily update the policy\n",
    "            if chosen_a != best_a:\n",
    "                policy_stable = False\n",
    "            policy[s] = np.eye(env.nA)[best_a]\n",
    "        \n",
    "        # If the policy is stable we've found an optimal policy. Return it\n",
    "        if policy_stable:\n",
    "            return policy, V"
   ]
  },
  {
   "cell_type": "code",
   "execution_count": 15,
   "metadata": {},
   "outputs": [],
   "source": [
    "def print_actions_policy(policy, env):\n",
    "    index = 0\n",
    "    for i in range(env.height):\n",
    "        print(\"[\", end=\" \")\n",
    "        for j in range(env.width):\n",
    "            action = np.argmax(policy[index])\n",
    "            index+=1\n",
    "            print(env.action_mappings[action], end=\" \")\n",
    "        print(\"]\")\n",
    "def print_actions_index(agent, env):\n",
    "    index = 0\n",
    "    for i in range(env.height):\n",
    "        print(\"[\", end=\" \")\n",
    "        for j in range(env.width):\n",
    "            action = agent.get_action(index)\n",
    "            print(env.action_mappings[action], end=\" \")\n",
    "            index += 1\n",
    "        print(\"]\")\n",
    "def print_actions(agent, env):\n",
    "    for i in range(env.height):\n",
    "        print(\"[\", end=\" \")\n",
    "        for j in range(env.width):\n",
    "            action = agent.get_action((i,j))\n",
    "            print(env.action_mappings[action], end=\" \")\n",
    "        print(\"]\")\n"
   ]
  },
  {
   "cell_type": "code",
   "execution_count": 10,
   "metadata": {},
   "outputs": [],
   "source": [
    "env = GridWorldEnv(5, 5, forbidden_grids=[(1,1),(1,2), (2,2),(3,1),(3,3),(4,1)], target_grids=[(3,2)], forbidden_reward=-1, hit_wall_reward=-1)\n",
    "# env = GridWorldEnv(2, 2, forbidden_grids=[(0,1)], target_grids=[(1,1)])\n",
    "env.init_model_based_transitions()"
   ]
  },
  {
   "cell_type": "code",
   "execution_count": 19,
   "metadata": {},
   "outputs": [
    {
     "name": "stdout",
     "output_type": "stream",
     "text": [
      "Value Function:\n",
      "[5.83191665 5.57991665 6.19991665 6.47992498 5.83193248 6.47991665\n",
      " 7.19991665 7.99991665 7.19992498 6.47993248 7.19991665 7.99991665\n",
      " 9.99991665 7.99992498 7.19993248 7.99991665 9.99991665 9.99991665\n",
      " 9.99992498 7.99993248 7.19992498 8.99992498 9.99992498 8.99993248\n",
      " 8.09993924]\n",
      "\n",
      "[  ↓   →   ↓   ↓   ↓  ]\n",
      "[  ↓   ↓   ↓   ↓   ↓  ]\n",
      "[  →   →   ↓   ↓   ↓  ]\n",
      "[  →   →   ↺   ←   ←  ]\n",
      "[  ↑   →   ↑   ←   ←  ]\n"
     ]
    }
   ],
   "source": [
    "\n",
    "policy, V = policy_improvement(env, discount_factor=0.9)\n",
    "# print(\"Policy Probability Distribution:\")\n",
    "# print(policy)\n",
    "# print(\"\")\n",
    "\n",
    "print(\"Value Function:\")\n",
    "print(V)\n",
    "print(\"\")\n",
    "\n",
    "print_actions_policy(policy, env)"
   ]
  },
  {
   "cell_type": "code",
   "execution_count": 13,
   "metadata": {},
   "outputs": [],
   "source": []
  },
  {
   "cell_type": "code",
   "execution_count": 16,
   "metadata": {},
   "outputs": [
    {
     "name": "stdout",
     "output_type": "stream",
     "text": [
      "[  ↓   →   ↓   ↓   ↓  ]\n",
      "[  ↓   ↓   ↓   ↓   ↓  ]\n",
      "[  →   →   ↓   ↓   ↓  ]\n",
      "[  →   →   ↺   ←   ←  ]\n",
      "[  ↑   →   ↑   ←   ←  ]\n",
      "dict_values([5.832425190730032, 5.580425190730033, 6.200425190730033, 6.480425190730033, 5.832425190730032, 6.480425190730033, 7.200425190730033, 8.000425190730033, 7.200425190730033, 6.480425190730033, 7.200425190730033, 8.000425190730033, 10.000425190730033, 8.000425190730033, 7.200425190730033, 8.000425190730033, 10.000425190730033, 10.000425190730033, 10.000425190730033, 8.000425190730033, 7.200425190730033, 9.000425190730033, 10.000425190730033, 9.000425190730033, 8.100425190730032])\n"
     ]
    }
   ],
   "source": [
    "agent = TruncatedPolicyIterationAgent(action_space_n=env.possible_actions, discounted_factor=0.9, threshold=0.001)\n",
    "agent.initialize_policy()\n",
    "\n",
    "agent.RUN(env)\n",
    "print_actions(agent, env)\n",
    "print(agent.v.values())"
   ]
  },
  {
   "cell_type": "code",
   "execution_count": 20,
   "metadata": {},
   "outputs": [
    {
     "name": "stdout",
     "output_type": "stream",
     "text": [
      "\n",
      "Unmatch state value below:\n",
      "\n",
      "5.832425190730032 5.831916647515824 -0.0005085432142086788\n",
      "5.580425190730033 5.579916647515823 -0.0005085432142095669\n",
      "6.200425190730033 6.199916647515823 -0.0005085432142095669\n",
      "6.480425190730033 6.479924982764241 -0.0005002079657918657\n",
      "5.832425190730032 5.831932484487817 -0.0004927062422153128\n",
      "6.480425190730033 6.479916647515823 -0.0005085432142095669\n",
      "7.200425190730033 7.199916647515823 -0.0005085432142095669\n",
      "8.000425190730033 7.999916647515823 -0.0005085432142095669\n",
      "7.200425190730033 7.199924982764241 -0.0005002079657918657\n",
      "6.480425190730033 6.479932484487817 -0.000492706242216201\n",
      "7.200425190730033 7.199916647515823 -0.0005085432142095669\n",
      "8.000425190730033 7.999916647515823 -0.0005085432142095669\n",
      "10.000425190730033 9.999916647515823 -0.0005085432142095669\n",
      "8.000425190730033 7.999924982764242 -0.0005002079657909775\n",
      "7.200425190730033 7.199932484487817 -0.0004927062422153128\n",
      "8.000425190730033 7.999916647515823 -0.0005085432142095669\n",
      "10.000425190730033 9.999916647515823 -0.0005085432142095669\n",
      "10.000425190730033 9.999916647515823 -0.0005085432142095669\n",
      "10.000425190730033 9.999924982764242 -0.0005002079657909775\n",
      "8.000425190730033 7.999932484487818 -0.0004927062422144246\n",
      "7.200425190730033 7.199924982764241 -0.0005002079657918657\n",
      "9.000425190730033 8.999924982764242 -0.0005002079657909775\n",
      "10.000425190730033 9.999924982764242 -0.0005002079657909775\n",
      "9.000425190730033 8.999932484487818 -0.0004927062422144246\n",
      "8.100425190730032 8.099939236039036 -0.0004859546909958823\n"
     ]
    }
   ],
   "source": [
    "print(\"\\nUnmatch state value below:\\n\")\n",
    "myV = list(agent.v.values())\n",
    "for i in range(len(V)):\n",
    "    if V[i] != myV[i]:\n",
    "        print(myV[i], V[i], V[i]-myV[i])"
   ]
  }
 ],
 "metadata": {
  "kernelspec": {
   "display_name": "Python 3",
   "language": "python",
   "name": "python3"
  },
  "language_info": {
   "codemirror_mode": {
    "name": "ipython",
    "version": 3
   },
   "file_extension": ".py",
   "mimetype": "text/x-python",
   "name": "python",
   "nbconvert_exporter": "python",
   "pygments_lexer": "ipython3",
   "version": "3.10.12"
  }
 },
 "nbformat": 4,
 "nbformat_minor": 2
}
