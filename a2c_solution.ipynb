{
 "cells": [
  {
   "cell_type": "code",
   "execution_count": 16,
   "metadata": {},
   "outputs": [
    {
     "name": "stdout",
     "output_type": "stream",
     "text": [
      "The autoreload extension is already loaded. To reload it, use:\n",
      "  %reload_ext autoreload\n"
     ]
    }
   ],
   "source": [
    "\n",
    "# %aimport rl_envs.grid_world_env\n",
    "\n",
    "import torch\n",
    "import math\n",
    "from torch.utils.tensorboard import SummaryWriter # type: ignore\n",
    "\n",
    "from rl_envs.gym_grid_world_env import GridWorldEnv\n",
    "from agents.A2C import A2CAgent\n",
    "from tools.helper import *\n",
    "%load_ext autoreload \n",
    "%autoreload 2\n"
   ]
  },
  {
   "cell_type": "code",
   "execution_count": 17,
   "metadata": {},
   "outputs": [],
   "source": [
    "LEARN_RATE = 1e-4\n",
    "DISCOUNTED_FACTOR = 0.9\n",
    "\n",
    "FORBIDDEN_REWARD = -1\n",
    "HITWALL_REWARD = -1\n",
    "TARGET_REWARD = 1"
   ]
  },
  {
   "cell_type": "code",
   "execution_count": 18,
   "metadata": {},
   "outputs": [],
   "source": [
    "env = GridWorldEnv(size=3,fixed_map = True, forbidden_grids=[(1,1)], target_grids=[(2,2)], forbidden_reward=FORBIDDEN_REWARD, hit_wall_reward=HITWALL_REWARD, target_reward=TARGET_REWARD)\n",
    "agent = A2CAgent(2, env.action_n)\n",
    "\n",
    "\n"
   ]
  },
  {
   "cell_type": "code",
   "execution_count": 19,
   "metadata": {},
   "outputs": [],
   "source": [
    "agent.RUN(env)"
   ]
  },
  {
   "cell_type": "code",
   "execution_count": 20,
   "metadata": {},
   "outputs": [
    {
     "name": "stdout",
     "output_type": "stream",
     "text": [
      "[ [[1.5610509e-02 9.8256946e-01 3.1851188e-04 6.5238547e-04 8.4922166e-04]] [[9.8955196e-01 2.2102832e-03 7.6646975e-04 3.3731957e-03 4.0980554e-03]] [[9.9934584e-01 8.7886576e-07 4.1601084e-05 2.7108873e-04 3.4055073e-04]] ]\n",
      "[ [[1.2002010e-07 9.9999940e-01 9.0889117e-08 1.4359883e-07 2.2189877e-07]] [[3.8245607e-02 9.4265682e-01 7.3219487e-04 7.3071080e-03 1.1058169e-02]] [[9.7063553e-01 1.8495678e-04 4.8750700e-04 1.1428431e-02 1.7263617e-02]] ]\n",
      "[ [[5.6629744e-12 1.0000000e+00 2.0171797e-11 3.4956267e-11 6.2177374e-11]] [[9.6113723e-08 9.9999833e-01 6.3953046e-08 4.7521090e-07 9.6801307e-07]] [[0.12662132 0.47204894 0.00187365 0.13904825 0.26040784]] ]\n",
      "[  →   ↓   ↓  ]\n",
      "[  →   →   ↓  ]\n",
      "[  →   →   →  ]\n",
      "[ [[1593404.6]] [[2303042.8]] [[3012688.]] ]\n",
      "[ [[3141902.8]] [[3851554.5]] [[4561209.]] ]\n",
      "[ [[4690425.]] [[5400075.]] [[6109729.]] ]\n"
     ]
    }
   ],
   "source": [
    "\n",
    "policy = agent.generate_policy_table(env.height, env.width)\n",
    "print_by_dict(env, policy)\n",
    "\n",
    "for i in range(env.height):\n",
    "    print(\"[\", end=\" \")\n",
    "    for j in range(env.width):\n",
    "        state = (i,j)\n",
    "        action = np.argmax(policy[state])\n",
    "        print(env.action_mappings[action], end=\" \")\n",
    "    print(\"]\")\n",
    "\n",
    "V = agent.generate_v_table(env.height, env.width)\n",
    "print_by_dict(env, V)\n"
   ]
  }
 ],
 "metadata": {
  "kernelspec": {
   "display_name": "Python 3",
   "language": "python",
   "name": "python3"
  },
  "language_info": {
   "codemirror_mode": {
    "name": "ipython",
    "version": 3
   },
   "file_extension": ".py",
   "mimetype": "text/x-python",
   "name": "python",
   "nbconvert_exporter": "python",
   "pygments_lexer": "ipython3",
   "version": "3.10.12"
  }
 },
 "nbformat": 4,
 "nbformat_minor": 2
}
